{
 "cells": [
  {
   "cell_type": "markdown",
   "id": "c9aa5f3a",
   "metadata": {},
   "source": [
    "## Imports"
   ]
  },
  {
   "cell_type": "code",
   "execution_count": 1,
   "id": "23ea379f",
   "metadata": {},
   "outputs": [
    {
     "name": "stderr",
     "output_type": "stream",
     "text": [
      "/home/localadmin/Retrosynthesis/3.9venv/lib/python3.9/site-packages/tqdm/auto.py:21: TqdmWarning: IProgress not found. Please update jupyter and ipywidgets. See https://ipywidgets.readthedocs.io/en/stable/user_install.html\n",
      "  from .autonotebook import tqdm as notebook_tqdm\n"
     ]
    }
   ],
   "source": [
    "from __future__ import annotations\n",
    "\n",
    "import csv, os, re\n",
    "from pathlib import Path\n",
    "from typing import Tuple, Sequence\n",
    "\n",
    "import torch\n",
    "import torch.nn as nn\n",
    "import torch.nn.functional as F\n",
    "\n",
    "from torch_geometric.data import Data, InMemoryDataset\n",
    "from torch_geometric.loader import DataLoader\n",
    "from torch_geometric.nn import TransformerConv, global_mean_pool\n",
    "\n",
    "from rdkit import Chem\n",
    "from rdkit.Chem import rdChemReactions\n",
    "from joblib import Parallel, delayed\n",
    "import tqdm.auto as tqdm"
   ]
  },
  {
   "cell_type": "markdown",
   "id": "3e7527c9",
   "metadata": {},
   "source": [
    "## Feature Extraction Utils"
   ]
  },
  {
   "cell_type": "code",
   "execution_count": 2,
   "id": "8dd2a5eb",
   "metadata": {},
   "outputs": [],
   "source": [
    "_SYMBOLS = [\n",
    "    'C', 'N', 'O', 'S', 'F', 'H', 'Si', 'P', 'Cl', 'Br', 'Li', 'Na', 'K',\n",
    "    'Mg', 'B', 'Sn', 'I', 'Se', 'unk'\n",
    "]\n",
    "_SYMBOL_TO_IDX = {s: i for i, s in enumerate(_SYMBOLS)}\n",
    "_BOND_TYPES = [\n",
    "    Chem.rdchem.BondType.SINGLE,\n",
    "    Chem.rdchem.BondType.DOUBLE,\n",
    "    Chem.rdchem.BondType.TRIPLE,\n",
    "    Chem.rdchem.BondType.AROMATIC,\n",
    "]\n",
    "_BOND_TO_IDX = {b: i for i, b in enumerate(_BOND_TYPES)}\n",
    "\n",
    "\n",
    "def _one_hot(idx: int, dim: int) -> torch.Tensor:\n",
    "    v = torch.zeros(dim); v[idx] = 1.0; return v\n",
    "\n",
    "\n",
    "def atom_features(a: Chem.Atom) -> torch.Tensor:\n",
    "    return torch.cat([\n",
    "        _one_hot(_SYMBOL_TO_IDX.get(a.GetSymbol(), _SYMBOL_TO_IDX['unk']), len(_SYMBOLS)),\n",
    "        torch.tensor([\n",
    "            a.GetFormalCharge(), a.GetTotalDegree(), a.GetTotalNumHs(),\n",
    "            a.GetTotalValence(), float(a.GetIsAromatic()), float(a.IsInRing())\n",
    "        ])\n",
    "    ])\n",
    "\n",
    "\n",
    "def bond_features(b: Chem.Bond) -> torch.Tensor:\n",
    "    return torch.cat([\n",
    "        _one_hot(_BOND_TO_IDX[b.GetBondType()], len(_BOND_TYPES)),\n",
    "        torch.tensor([float(b.GetIsConjugated()), float(b.IsInRing())])\n",
    "    ])"
   ]
  },
  {
   "cell_type": "markdown",
   "id": "46f1ec79",
   "metadata": {},
   "source": [
    "## Graph Conversion Utilities"
   ]
  },
  {
   "cell_type": "code",
   "execution_count": null,
   "id": "50960641",
   "metadata": {},
   "outputs": [],
   "source": [
    "def _bonds_to_break(rcts: Sequence[Chem.Mol], prod: Chem.Mol):\n",
    "    r, p = set(), set()\n",
    "    for m in rcts:\n",
    "        for b in m.GetBonds():\n",
    "            a1, a2 = b.GetBeginAtom().GetAtomMapNum(), b.GetEndAtom().GetAtomMapNum()\n",
    "            if a1 and a2: r.add(tuple(sorted((a1, a2))))\n",
    "    for b in prod.GetBonds():\n",
    "        a1, a2 = b.GetBeginAtom().GetAtomMapNum(), b.GetEndAtom().GetAtomMapNum()\n",
    "        if a1 and a2: p.add(tuple(sorted((a1, a2))))\n",
    "    return p - r\n",
    "\n",
    "\n",
    "def _pair_to_graph(pair: Tuple[Sequence[Chem.Mol], Chem.Mol]):\n",
    "    rcts, prod = pair\n",
    "    x = torch.stack([atom_features(at) for at in prod.GetAtoms()])\n",
    "\n",
    "    # mapping for fast lookup (skip mapNum == 0)\n",
    "    map2idx = {a.GetAtomMapNum(): a.GetIdx() for a in prod.GetAtoms() if a.GetAtomMapNum()}\n",
    "    break_idx = {tuple(sorted((map2idx[m1], map2idx[m2]))) for m1, m2 in _bonds_to_break(rcts, prod) if m1 in map2idx and m2 in map2idx}\n",
    "\n",
    "    ei, ea, el = [], [], []\n",
    "    for b in prod.GetBonds():\n",
    "        i, j = b.GetBeginAtomIdx(), b.GetEndAtomIdx()\n",
    "        feat = bond_features(b)\n",
    "        lbl = 1 if tuple(sorted((i, j))) in break_idx else 0\n",
    "        for u, v in ((i, j), (j, i)):\n",
    "            ei.append([u, v]); ea.append(feat); el.append(lbl)\n",
    "\n",
    "    return Data(\n",
    "        x=x,\n",
    "        edge_index=torch.tensor(ei, dtype=torch.long).t().contiguous(),\n",
    "        edge_attr=torch.stack(ea),\n",
    "        y=torch.tensor(el, dtype=torch.float).view(-1, 1)\n",
    "    )\n"
   ]
  },
  {
   "cell_type": "markdown",
   "id": "bb74e815",
   "metadata": {},
   "source": [
    "## Data parsing function"
   ]
  },
  {
   "cell_type": "code",
   "execution_count": 4,
   "id": "db8348da",
   "metadata": {},
   "outputs": [],
   "source": [
    "def _row_to_pair(row):\n",
    "    \"\"\"Convert a CSV row to (reactant mols, product mol) or return None.\"\"\"\n",
    "    try:\n",
    "        left, right = row['rxnSmiles_Mapping_NameRxn'].split('>>')\n",
    "        idx = [int(i) for i in re.findall(r'\\d+', row['reactantSet_NameRxn'])]\n",
    "        rcts = [left.split('.')[i] for i in idx]\n",
    "        prods = right.split('.')\n",
    "        if len(prods) != 1:\n",
    "            return None\n",
    "        r_mols = [Chem.MolFromSmiles(s) for s in rcts]\n",
    "        p_mol = Chem.MolFromSmiles(prods[0])\n",
    "        rxn = rdChemReactions.ChemicalReaction(); [rxn.AddReactantTemplate(m) for m in r_mols]; rxn.AddProductTemplate(p_mol)\n",
    "        if rxn.Validate()[1]:\n",
    "            return None\n",
    "        return r_mols, p_mol\n",
    "    except Exception:\n",
    "        return None"
   ]
  },
  {
   "cell_type": "markdown",
   "id": "f10dfd4e",
   "metadata": {},
   "source": [
    "## Dataset Class"
   ]
  },
  {
   "cell_type": "code",
   "execution_count": 5,
   "id": "880614b3",
   "metadata": {},
   "outputs": [],
   "source": [
    "class CentreDataset(InMemoryDataset):\n",
    "    def __init__(self, csv_path: str, jobs: int):\n",
    "        self.csv_path, self.jobs = csv_path, jobs\n",
    "        super().__init__(root=Path(csv_path).parent)\n",
    "        self.data, self.slices = torch.load(self.processed_paths[0], weights_only=False)\n",
    "\n",
    "    @property\n",
    "    def processed_file_names(self):\n",
    "        return [\"centre_data.pt\"]\n",
    "\n",
    "    # ----- heavy I/O and RDKit in parallel -----\n",
    "    def _parse_pairs(self):\n",
    "        rows = list(csv.DictReader(open(self.csv_path)))\n",
    "        print(f\"CSV rows: {len(rows)} — RDKit parsing on {self.jobs} processes …\")\n",
    "        pairs = Parallel(n_jobs=self.jobs)(delayed(_row_to_pair)(r) for r in rows)\n",
    "        return [p for p in pairs if p]\n",
    "\n",
    "    def process(self):\n",
    "        pairs = self._parse_pairs()\n",
    "        print(f\"Mol-pairs: {len(pairs)} — graph build on {self.jobs} threads …\")\n",
    "        graphs = Parallel(n_jobs=self.jobs, backend=\"multiprocessing\", batch_size=128)(\n",
    "            delayed(_pair_to_graph)(p) for p in tqdm.tqdm(pairs, desc=\"graphs\")\n",
    "        )\n",
    "        pos = sum(int(g.y.sum()) for g in graphs)\n",
    "        tot = sum(int(g.y.numel()) for g in graphs)\n",
    "        print(f\"Positive edge ratio = {pos/tot:.2%}\")\n",
    "        data, slices = self.collate(graphs)\n",
    "        Path(self.processed_dir).mkdir(parents=True, exist_ok=True)\n",
    "        torch.save((data, slices), self.processed_paths[0])"
   ]
  },
  {
   "cell_type": "markdown",
   "id": "cf61ac22",
   "metadata": {},
   "source": [
    "## Training"
   ]
  },
  {
   "cell_type": "code",
   "execution_count": null,
   "id": "0aca0712",
   "metadata": {},
   "outputs": [],
   "source": [
    "EPOCHS = 25\n",
    "\n",
    "device = \"cuda\" if torch.cuda.is_available() else \"cpu\"\n",
    "ds = CentreDataset('data/dataSetB.csv', os.cpu_count())\n",
    "\n",
    "n_tr, n_val = int(0.8 * len(ds)), int(0.1 * len(ds))\n",
    "# train_ds, val_ds, test_ds = torch.utils.data.(ds, [n_tr, n_val, len(ds) - n_tr - n_val])\n",
    "\n",
    "train_size = int(0.8 * len(ds))\n",
    "val_size = int(0.1 * len(ds))\n",
    "test_size = len(ds) - train_size - val_size\n",
    "\n",
    "train_ds = ds[:train_size]\n",
    "val_ds = ds[train_size : train_size + val_size]\n",
    "test_ds = ds[train_size + val_size :]\n",
    "\n",
    "train_loader = DataLoader(train_ds, batch_size=32, shuffle=True)\n",
    "val_loader   = DataLoader(val_ds, batch_size=64)\n",
    "test_loader  = DataLoader(test_ds, batch_size=64)\n",
    "\n",
    "hidden = 128\n",
    "model = GNN(ds.num_node_features, ds.num_edge_features, hidden=hidden).to(device)\n",
    "\n",
    "pos = sum(int(d.y.sum()) for d in ds)\n",
    "neg = sum(int(d.y.numel() - d.y.sum()) for d in ds)\n",
    "criterion = nn.BCEWithLogitsLoss(pos_weight=torch.tensor([neg/pos], device=device))\n",
    "optimizer = torch.optim.Adam(model.parameters(), lr=1e-5)"
   ]
  },
  {
   "cell_type": "code",
   "execution_count": 16,
   "id": "ebffbdb4",
   "metadata": {},
   "outputs": [
    {
     "name": "stderr",
     "output_type": "stream",
     "text": [
      "  4%|▍         | 1/25 [00:18<07:21, 18.40s/it]"
     ]
    },
    {
     "name": "stdout",
     "output_type": "stream",
     "text": [
      "Ep01: train 1.0945  val 0.9007  AUC 0.870\n"
     ]
    },
    {
     "name": "stderr",
     "output_type": "stream",
     "text": [
      "  8%|▊         | 2/25 [00:31<05:57, 15.52s/it]"
     ]
    },
    {
     "name": "stdout",
     "output_type": "stream",
     "text": [
      "Ep02: train 0.8471  val 0.7598  AUC 0.909\n"
     ]
    },
    {
     "name": "stderr",
     "output_type": "stream",
     "text": [
      " 12%|█▏        | 3/25 [00:44<05:15, 14.36s/it]"
     ]
    },
    {
     "name": "stdout",
     "output_type": "stream",
     "text": [
      "Ep03: train 0.7644  val 0.7020  AUC 0.921\n"
     ]
    },
    {
     "name": "stderr",
     "output_type": "stream",
     "text": [
      " 16%|█▌        | 4/25 [00:57<04:50, 13.83s/it]"
     ]
    },
    {
     "name": "stdout",
     "output_type": "stream",
     "text": [
      "Ep04: train 0.7228  val 0.6679  AUC 0.928\n"
     ]
    },
    {
     "name": "stderr",
     "output_type": "stream",
     "text": [
      " 20%|██        | 5/25 [01:09<04:23, 13.19s/it]"
     ]
    },
    {
     "name": "stdout",
     "output_type": "stream",
     "text": [
      "Ep05: train 0.6958  val 0.6451  AUC 0.932\n"
     ]
    },
    {
     "name": "stderr",
     "output_type": "stream",
     "text": [
      " 24%|██▍       | 6/25 [01:23<04:11, 13.22s/it]"
     ]
    },
    {
     "name": "stdout",
     "output_type": "stream",
     "text": [
      "Ep06: train 0.6770  val 0.6264  AUC 0.935\n"
     ]
    },
    {
     "name": "stderr",
     "output_type": "stream",
     "text": [
      " 28%|██▊       | 7/25 [01:36<03:57, 13.20s/it]"
     ]
    },
    {
     "name": "stdout",
     "output_type": "stream",
     "text": [
      "Ep07: train 0.6605  val 0.6123  AUC 0.938\n"
     ]
    },
    {
     "name": "stderr",
     "output_type": "stream",
     "text": [
      " 32%|███▏      | 8/25 [01:49<03:43, 13.17s/it]"
     ]
    },
    {
     "name": "stdout",
     "output_type": "stream",
     "text": [
      "Ep08: train 0.6482  val 0.6026  AUC 0.940\n"
     ]
    },
    {
     "name": "stderr",
     "output_type": "stream",
     "text": [
      " 36%|███▌      | 9/25 [02:02<03:30, 13.18s/it]"
     ]
    },
    {
     "name": "stdout",
     "output_type": "stream",
     "text": [
      "Ep09: train 0.6360  val 0.5910  AUC 0.942\n"
     ]
    },
    {
     "name": "stderr",
     "output_type": "stream",
     "text": [
      " 40%|████      | 10/25 [02:16<03:19, 13.27s/it]"
     ]
    },
    {
     "name": "stdout",
     "output_type": "stream",
     "text": [
      "Ep10: train 0.6277  val 0.5830  AUC 0.943\n"
     ]
    },
    {
     "name": "stderr",
     "output_type": "stream",
     "text": [
      " 44%|████▍     | 11/25 [02:29<03:06, 13.29s/it]"
     ]
    },
    {
     "name": "stdout",
     "output_type": "stream",
     "text": [
      "Ep11: train 0.6185  val 0.5753  AUC 0.945\n"
     ]
    },
    {
     "name": "stderr",
     "output_type": "stream",
     "text": [
      " 48%|████▊     | 12/25 [02:42<02:53, 13.31s/it]"
     ]
    },
    {
     "name": "stdout",
     "output_type": "stream",
     "text": [
      "Ep12: train 0.6099  val 0.5681  AUC 0.946\n"
     ]
    },
    {
     "name": "stderr",
     "output_type": "stream",
     "text": [
      " 52%|█████▏    | 13/25 [02:56<02:39, 13.27s/it]"
     ]
    },
    {
     "name": "stdout",
     "output_type": "stream",
     "text": [
      "Ep13: train 0.6022  val 0.5617  AUC 0.947\n"
     ]
    },
    {
     "name": "stderr",
     "output_type": "stream",
     "text": [
      " 56%|█████▌    | 14/25 [03:06<02:18, 12.56s/it]"
     ]
    },
    {
     "name": "stdout",
     "output_type": "stream",
     "text": [
      "Ep14: train 0.5958  val 0.5553  AUC 0.948\n"
     ]
    },
    {
     "name": "stderr",
     "output_type": "stream",
     "text": [
      " 60%|██████    | 15/25 [03:18<02:02, 12.24s/it]"
     ]
    },
    {
     "name": "stdout",
     "output_type": "stream",
     "text": [
      "Ep15: train 0.5899  val 0.5501  AUC 0.949\n"
     ]
    },
    {
     "name": "stderr",
     "output_type": "stream",
     "text": [
      " 64%|██████▍   | 16/25 [03:29<01:46, 11.85s/it]"
     ]
    },
    {
     "name": "stdout",
     "output_type": "stream",
     "text": [
      "Ep16: train 0.5851  val 0.5449  AUC 0.950\n"
     ]
    },
    {
     "name": "stderr",
     "output_type": "stream",
     "text": [
      " 68%|██████▊   | 17/25 [03:41<01:34, 11.80s/it]"
     ]
    },
    {
     "name": "stdout",
     "output_type": "stream",
     "text": [
      "Ep17: train 0.5795  val 0.5404  AUC 0.951\n"
     ]
    },
    {
     "name": "stderr",
     "output_type": "stream",
     "text": [
      " 72%|███████▏  | 18/25 [03:53<01:23, 11.99s/it]"
     ]
    },
    {
     "name": "stdout",
     "output_type": "stream",
     "text": [
      "Ep18: train 0.5747  val 0.5382  AUC 0.951\n"
     ]
    },
    {
     "name": "stderr",
     "output_type": "stream",
     "text": [
      " 76%|███████▌  | 19/25 [04:06<01:14, 12.40s/it]"
     ]
    },
    {
     "name": "stdout",
     "output_type": "stream",
     "text": [
      "Ep19: train 0.5696  val 0.5329  AUC 0.952\n"
     ]
    },
    {
     "name": "stderr",
     "output_type": "stream",
     "text": [
      " 80%|████████  | 20/25 [04:19<01:02, 12.55s/it]"
     ]
    },
    {
     "name": "stdout",
     "output_type": "stream",
     "text": [
      "Ep20: train 0.5658  val 0.5296  AUC 0.952\n"
     ]
    },
    {
     "name": "stderr",
     "output_type": "stream",
     "text": [
      " 84%|████████▍ | 21/25 [04:32<00:50, 12.65s/it]"
     ]
    },
    {
     "name": "stdout",
     "output_type": "stream",
     "text": [
      "Ep21: train 0.5629  val 0.5268  AUC 0.953\n"
     ]
    },
    {
     "name": "stderr",
     "output_type": "stream",
     "text": [
      " 88%|████████▊ | 22/25 [04:45<00:38, 12.77s/it]"
     ]
    },
    {
     "name": "stdout",
     "output_type": "stream",
     "text": [
      "Ep22: train 0.5591  val 0.5218  AUC 0.953\n"
     ]
    },
    {
     "name": "stderr",
     "output_type": "stream",
     "text": [
      " 92%|█████████▏| 23/25 [04:58<00:25, 12.85s/it]"
     ]
    },
    {
     "name": "stdout",
     "output_type": "stream",
     "text": [
      "Ep23: train 0.5558  val 0.5223  AUC 0.954\n"
     ]
    },
    {
     "name": "stderr",
     "output_type": "stream",
     "text": [
      " 96%|█████████▌| 24/25 [05:11<00:12, 12.92s/it]"
     ]
    },
    {
     "name": "stdout",
     "output_type": "stream",
     "text": [
      "Ep24: train 0.5505  val 0.5156  AUC 0.954\n"
     ]
    },
    {
     "name": "stderr",
     "output_type": "stream",
     "text": [
      "100%|██████████| 25/25 [05:25<00:00, 13.02s/it]"
     ]
    },
    {
     "name": "stdout",
     "output_type": "stream",
     "text": [
      "Ep25: train 0.5500  val 0.5166  AUC 0.955\n"
     ]
    },
    {
     "name": "stderr",
     "output_type": "stream",
     "text": [
      "\n"
     ]
    }
   ],
   "source": [
    "best_auc = 0.0\n",
    "for epoch in tqdm.tqdm(range(1, EPOCHS + 1)):\n",
    "    tr_loss = _run_epoch(model, train_loader, criterion, opt=optimizer, device=device)\n",
    "    val_loss, val_auc = _run_epoch(model, val_loader, criterion, device=device)\n",
    "    print(f\"Ep{epoch:02d}: train {tr_loss:.4f}  val {val_loss:.4f}  AUC {val_auc:.3f}\")\n",
    "    if val_auc > best_auc:\n",
    "        best_auc = val_auc\n",
    "        torch.save(model.state_dict(), \"best_model.pt\")"
   ]
  },
  {
   "cell_type": "markdown",
   "id": "7bfba37c",
   "metadata": {},
   "source": [
    "## Evaluation"
   ]
  },
  {
   "cell_type": "code",
   "execution_count": 17,
   "id": "61ac37a2",
   "metadata": {},
   "outputs": [
    {
     "name": "stdout",
     "output_type": "stream",
     "text": [
      "Test AUC = 0.954\n",
      "\n",
      "Precision / recall / F1 on test bonds:\n",
      "              precision    recall  f1-score   support\n",
      "\n",
      "         0.0      0.998     0.858     0.922    131076\n",
      "         1.0      0.152     0.925     0.261      3605\n",
      "\n",
      "    accuracy                          0.859    134681\n",
      "   macro avg      0.575     0.891     0.591    134681\n",
      "weighted avg      0.975     0.859     0.905    134681\n",
      "\n"
     ]
    },
    {
     "data": {
      "image/png": "[encoded data removed]",
      "text/plain": [
       "<Figure size 700x600 with 1 Axes>"
      ]
     },
     "metadata": {},
     "output_type": "display_data"
    }
   ],
   "source": [
    "# model = GNN(ds.num_node_features, ds.num_edge_features, hidden=hidden).to(device)\n",
    "# model.load_state_dict(torch.load(\"best_model_best.pt\"))\n",
    "_, test_auc = _run_epoch(model, test_loader, criterion, device=device)\n",
    "print(f\"Test AUC = {test_auc:.3f}\")\n",
    "\n",
    "\n",
    "import matplotlib.pyplot as plt\n",
    "from sklearn.metrics import classification_report, roc_curve\n",
    "probs, y_true = _collect_preds(model, test_loader, device)\n",
    "y_pred = (probs > 0.5).int()  # threshold can be tuned\n",
    "\n",
    "print(\"\\nPrecision / recall / F1 on test bonds:\")\n",
    "print(classification_report(y_true.numpy(), y_pred.numpy(), digits=3))\n",
    "\n",
    "fpr, tpr, _ = roc_curve(y_true.numpy(), probs.numpy())\n",
    "plt.figure(figsize=(7, 6))\n",
    "plt.plot(fpr, tpr, lw=2, label=f\"AUC = {test_auc:.3f}\")\n",
    "plt.plot([0, 1], [0, 1], \"--\", color=\"grey\")\n",
    "plt.xlabel(\"False Positive Rate\");  plt.ylabel(\"True Positive Rate\")\n",
    "plt.title(\"ROC – Reaction-Centre Classifier\");  plt.legend();  plt.grid(alpha=.3)\n",
    "plt.show()"
   ]
  }
 ],
 "metadata": {
  "kernelspec": {
   "display_name": "3.9venv",
   "language": "python",
   "name": "python3"
  },
  "language_info": {
   "codemirror_mode": {
    "name": "ipython",
    "version": 3
   },
   "file_extension": ".py",
   "mimetype": "text/x-python",
   "name": "python",
   "nbconvert_exporter": "python",
   "pygments_lexer": "ipython3",
   "version": "3.9.23"
  }
 },
 "nbformat": 4,
 "nbformat_minor": 5
}
