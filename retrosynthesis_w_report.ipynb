{
 "cells": [
  {
   "cell_type": "markdown",
   "id": "a2ad86c6",
   "metadata": {},
   "source": [
    "# Retrosynthesis using GNNs with Attention"
   ]
  },
  {
   "cell_type": "markdown",
   "id": "1e727f31",
   "metadata": {},
   "source": [
    "Retrosynthesis is one of the most important techniques in Organic Chemistry, offering a \"backward\" approach in Organic Synthesis, with prevalent applications in the field of Drug Discovery and Drug Development. While the final goal of Organic Synthesis is Synthesis itself, Retrosynthesis is crucial in finding highly available and / or high quality pathways to achieve it, deconstructing known product molecules into sets of possible precursors. Historically an extremely complex and time-intensive task that is heavily reliant on prior domain knowledge and expertise (known reactions and compounds in the 10<sup>7</sup>s), Deep Learning can be used to immensely benefit it by \"quickly\" offering pathway predictions to be later reviewed by the actual experts, vastly accelerating the process. In this context and that of Deep Learning, our Assignment aims to offer a trivial implementation of the first steps of Retrosynthesis pipeline, building a model for Chemical Reaction Center prediction i.e. for finding which of the product's bonds can be broken, with the aim of splitting it into valid predecessors."
   ]
  },
  {
   "cell_type": "markdown",
   "id": "616a1cca",
   "metadata": {},
   "source": [
    "### Dataset\n",
    "Our model is trained and tested on USPTO-50k (United States Patent and Trademark Office), a widely recognized dataset in ML assisted Organic Synthesis that consists of 50K extracted atom-mapped reactions in the form of SMILES (Simplified Molecular Input Line Entry System) strings."
   ]
  },
  {
   "cell_type": "markdown",
   "id": "c9aa5f3a",
   "metadata": {},
   "source": [
    "## Imports"
   ]
  },
  {
   "cell_type": "code",
   "execution_count": null,
   "id": "23ea379f",
   "metadata": {},
   "outputs": [],
   "source": [
    "from __future__ import annotations\n",
    "\n",
    "import csv, os, re\n",
    "from pathlib import Path\n",
    "from typing import Tuple, Sequence\n",
    "\n",
    "import torch\n",
    "import torch.nn as nn\n",
    "import torch.nn.functional as F\n",
    "\n",
    "from torch_geometric.data import Data, InMemoryDataset\n",
    "from torch_geometric.loader import DataLoader\n",
    "from torch_geometric.nn import TransformerConv, global_mean_pool\n",
    "\n",
    "from rdkit import Chem\n",
    "from rdkit.Chem import rdChemReactions\n",
    "from joblib import Parallel, delayed\n",
    "import tqdm.auto as tqdm"
   ]
  },
  {
   "cell_type": "markdown",
   "id": "3e7527c9",
   "metadata": {},
   "source": [
    "## Feature Extraction Utils"
   ]
  },
  {
   "cell_type": "code",
   "execution_count": 13,
   "id": "8dd2a5eb",
   "metadata": {},
   "outputs": [],
   "source": [
    "_SYMBOLS = [\n",
    "    'C', 'N', 'O', 'S', 'F', 'H', 'Si', 'P', 'Cl', 'Br', 'Li', 'Na', 'K',\n",
    "    'Mg', 'B', 'Sn', 'I', 'Se', 'unk'\n",
    "]\n",
    "_SYMBOL_TO_IDX = {s: i for i, s in enumerate(_SYMBOLS)}\n",
    "_BOND_TYPES = [\n",
    "    Chem.rdchem.BondType.SINGLE,\n",
    "    Chem.rdchem.BondType.DOUBLE,\n",
    "    Chem.rdchem.BondType.TRIPLE,\n",
    "    Chem.rdchem.BondType.AROMATIC,\n",
    "]\n",
    "_BOND_TO_IDX = {b: i for i, b in enumerate(_BOND_TYPES)}\n",
    "\n",
    "\n",
    "def _one_hot(idx: int, dim: int) -> torch.Tensor:\n",
    "    v = torch.zeros(dim); v[idx] = 1.0; return v\n",
    "\n",
    "\n",
    "def atom_features(a: Chem.Atom) -> torch.Tensor:\n",
    "    return torch.cat([\n",
    "        _one_hot(_SYMBOL_TO_IDX.get(a.GetSymbol(), _SYMBOL_TO_IDX['unk']), len(_SYMBOLS)),\n",
    "        torch.tensor([\n",
    "            a.GetFormalCharge(), a.GetTotalDegree(), a.GetTotalNumHs(),\n",
    "            a.GetTotalValence(), float(a.GetIsAromatic()), float(a.IsInRing())\n",
    "        ])\n",
    "    ])\n",
    "\n",
    "\n",
    "def bond_features(b: Chem.Bond) -> torch.Tensor:\n",
    "    return torch.cat([\n",
    "        _one_hot(_BOND_TO_IDX[b.GetBondType()], len(_BOND_TYPES)),\n",
    "        torch.tensor([float(b.GetIsConjugated()), float(b.IsInRing())])\n",
    "    ])"
   ]
  },
  {
   "cell_type": "markdown",
   "id": "46f1ec79",
   "metadata": {},
   "source": [
    "## Graph Conversion Utilities"
   ]
  },
  {
   "cell_type": "code",
   "execution_count": 14,
   "id": "50960641",
   "metadata": {},
   "outputs": [],
   "source": [
    "def _bonds_to_break(rcts: Sequence[Chem.Mol], prod: Chem.Mol):\n",
    "    r, p = set(), set()\n",
    "    for m in rcts:\n",
    "        for b in m.GetBonds():\n",
    "            a1, a2 = b.GetBeginAtom().GetAtomMapNum(), b.GetEndAtom().GetAtomMapNum()\n",
    "            if a1 and a2: r.add(tuple(sorted((a1, a2))))\n",
    "    for b in prod.GetBonds():\n",
    "        a1, a2 = b.GetBeginAtom().GetAtomMapNum(), b.GetEndAtom().GetAtomMapNum()\n",
    "        if a1 and a2: p.add(tuple(sorted((a1, a2))))\n",
    "    return p - r\n",
    "\n",
    "\n",
    "def _pair_to_graph(pair: Tuple[Sequence[Chem.Mol], Chem.Mol]):\n",
    "    rcts, prod = pair\n",
    "    x = torch.stack([atom_features(at) for at in prod.GetAtoms()])\n",
    "\n",
    "    # mapping for fast lookup (skip mapNum == 0)\n",
    "    map2idx = {a.GetAtomMapNum(): a.GetIdx() for a in prod.GetAtoms() if a.GetAtomMapNum()}\n",
    "    break_idx = {tuple(sorted((map2idx[m1], map2idx[m2]))) for m1, m2 in _bonds_to_break(rcts, prod) if m1 in map2idx and m2 in map2idx}\n",
    "\n",
    "    ei, ea, el = [], [], []\n",
    "    for b in prod.GetBonds():\n",
    "        i, j = b.GetBeginAtomIdx(), b.GetEndAtomIdx()\n",
    "        feat = bond_features(b)\n",
    "        lbl = 1 if tuple(sorted((i, j))) in break_idx else 0\n",
    "        for u, v in ((i, j), (j, i)):\n",
    "            ei.append([u, v]); ea.append(feat); el.append(lbl)\n",
    "\n",
    "    return Data(\n",
    "        x=x,\n",
    "        edge_index=torch.tensor(ei, dtype=torch.long).t().contiguous(),\n",
    "        edge_attr=torch.stack(ea),\n",
    "        y=torch.tensor(el, dtype=torch.float).view(-1, 1)\n",
    "    )\n"
   ]
  },
  {
   "cell_type": "markdown",
   "id": "bb74e815",
   "metadata": {},
   "source": [
    "## Data parsing function"
   ]
  },
  {
   "cell_type": "code",
   "execution_count": 15,
   "id": "db8348da",
   "metadata": {},
   "outputs": [],
   "source": [
    "def _row_to_pair(row):\n",
    "    \"\"\"Convert a CSV row to (reactant mols, product mol) or return None.\"\"\"\n",
    "    try:\n",
    "        left, right = row['rxnSmiles_Mapping_NameRxn'].split('>>')\n",
    "        idx = [int(i) for i in re.findall(r'\\d+', row['reactantSet_NameRxn'])]\n",
    "        rcts = [left.split('.')[i] for i in idx]\n",
    "        prods = right.split('.')\n",
    "        if len(prods) != 1:\n",
    "            return None\n",
    "        r_mols = [Chem.MolFromSmiles(s) for s in rcts]\n",
    "        p_mol = Chem.MolFromSmiles(prods[0])\n",
    "        rxn = rdChemReactions.ChemicalReaction(); [rxn.AddReactantTemplate(m) for m in r_mols]; rxn.AddProductTemplate(p_mol)\n",
    "        if rxn.Validate()[1]:\n",
    "            return None\n",
    "        return r_mols, p_mol\n",
    "    except Exception:\n",
    "        return None"
   ]
  },
  {
   "cell_type": "markdown",
   "id": "f10dfd4e",
   "metadata": {},
   "source": [
    "## Dataset Class"
   ]
  },
  {
   "cell_type": "code",
   "execution_count": null,
   "id": "880614b3",
   "metadata": {},
   "outputs": [],
   "source": [
    "class CentreDataset(InMemoryDataset):\n",
    "    def __init__(self, csv_path: str, jobs: int):\n",
    "        self.csv_path, self.jobs = csv_path, jobs\n",
    "        super().__init__(root=Path(csv_path).parent)\n",
    "        self.data, self.slices = torch.load(self.processed_paths[0], weights_only=False)\n",
    "\n",
    "    @property\n",
    "    def processed_file_names(self):\n",
    "        return [\"centre_data.pt\"]\n",
    "\n",
    "    # ----- heavy I/O and RDKit in parallel -----\n",
    "    def _parse_pairs(self):\n",
    "        rows = list(csv.DictReader(open(self.csv_path)))\n",
    "        print(f\"CSV rows: {len(rows)} — RDKit parsing on {self.jobs} processes …\")\n",
    "        pairs = Parallel(n_jobs=self.jobs)(delayed(_row_to_pair)(r) for r in rows)\n",
    "        return [p for p in pairs if p]\n",
    "\n",
    "    def process(self):\n",
    "        pairs = self._parse_pairs()\n",
    "        print(f\"Mol-pairs: {len(pairs)} — graph build on {self.jobs} threads …\")\n",
    "        graphs = Parallel(n_jobs=self.jobs, backend=\"multiprocessing\", batch_size=128)(\n",
    "            delayed(_pair_to_graph)(p) for p in tqdm.tqdm(pairs, desc=\"graphs\")\n",
    "        )\n",
    "        pos = sum(int(g.y.sum()) for g in graphs)\n",
    "        tot = sum(int(g.y.numel()) for g in graphs)\n",
    "        print(f\"Positive edge ratio = {pos/tot:.2%}\")\n",
    "        data, slices = self.collate(graphs)\n",
    "        Path(self.processed_dir).mkdir(parents=True, exist_ok=True)\n",
    "        torch.save((data, slices), self.processed_paths[0])"
   ]
  },
  {
   "cell_type": "markdown",
   "id": "dcbe1d20",
   "metadata": {},
   "source": [
    "## Model"
   ]
  },
  {
   "cell_type": "code",
   "execution_count": 17,
   "id": "6944baa3",
   "metadata": {},
   "outputs": [],
   "source": [
    "class Encoder(nn.Module):\n",
    "    def __init__(self, node_dim: int, edge_dim: int, hidden: int = 128):\n",
    "        super().__init__()\n",
    "        self.t1 = TransformerConv(node_dim, hidden // 8, heads=8, edge_dim=edge_dim)\n",
    "        self.t2 = TransformerConv(hidden, hidden, concat=False, edge_dim=edge_dim)\n",
    "    def forward(self, x, ei, ea):\n",
    "        return self.t2(F.leaky_relu(self.t1(x, ei, ea)), ei, ea)\n",
    "\n",
    "class LinkClassifier(nn.Module):\n",
    "    def __init__(self, node_dim: int, edge_dim: int):\n",
    "        super().__init__()\n",
    "        self.mlp = nn.Sequential(nn.Linear(node_dim * 3 + edge_dim, 128), nn.ReLU(), nn.Linear(128, 1))\n",
    "    def forward(self, h, ei, ea, batch):\n",
    "        s, t = ei\n",
    "        g = global_mean_pool(h, batch)[batch[s]]\n",
    "        return self.mlp(torch.cat([h[s], h[t], ea, g], dim=-1))\n",
    "\n",
    "class GNN(nn.Module):\n",
    "    def __init__(self, node_dim: int, edge_dim: int, hidden: int = 128):\n",
    "        super().__init__()\n",
    "        self.enc = Encoder(node_dim, edge_dim, hidden)\n",
    "        self.cls = LinkClassifier(hidden, edge_dim)\n",
    "    def forward(self, data: Data):\n",
    "        h = self.enc(data.x, data.edge_index, data.edge_attr)\n",
    "        return self.cls(h, data.edge_index, data.edge_attr, data.batch)"
   ]
  },
  {
   "cell_type": "markdown",
   "id": "8402a17c",
   "metadata": {},
   "source": [
    "## Evaluation Utils"
   ]
  },
  {
   "cell_type": "code",
   "execution_count": 18,
   "id": "21578909",
   "metadata": {},
   "outputs": [],
   "source": [
    "def _collect_preds(model, loader, device=\"cpu\"):\n",
    "    model.eval()\n",
    "    probs, labels = [], []\n",
    "    with torch.no_grad():\n",
    "        for batch in loader:\n",
    "            batch = batch.to(device)\n",
    "            logit = model(batch)\n",
    "            mask = batch.edge_index[0] < batch.edge_index[1]  # undirected collapse\n",
    "            probs.append(torch.sigmoid(logit[mask]).cpu())\n",
    "            labels.append(batch.y[mask].cpu())\n",
    "    return torch.cat(probs), torch.cat(labels)\n",
    "\n",
    "def _roc_auc(y_true: torch.Tensor, y_prob: torch.Tensor) -> float:\n",
    "    from sklearn.metrics import roc_auc_score\n",
    "    y_numpy, p_numpy = y_true.numpy(), y_prob.numpy()\n",
    "    if y_numpy.sum() in (0, len(y_numpy)):\n",
    "        return 0.0\n",
    "    return float(roc_auc_score(y_numpy, p_numpy))\n"
   ]
  },
  {
   "cell_type": "markdown",
   "id": "5f478a42",
   "metadata": {},
   "source": [
    "## Training Utils"
   ]
  },
  {
   "cell_type": "code",
   "execution_count": 19,
   "id": "6877f46e",
   "metadata": {},
   "outputs": [],
   "source": [
    "def _run_epoch(model, loader, criterion, opt=None, device=\"cpu\"):\n",
    "    train = opt is not None\n",
    "    model.train() if train else model.eval()\n",
    "    tot_loss, preds, labels = 0.0, [], []\n",
    "    with torch.set_grad_enabled(train):\n",
    "        for batch in loader:\n",
    "            batch = batch.to(device)\n",
    "            logit = model(batch)\n",
    "            loss = criterion(logit, batch.y)\n",
    "            if train:\n",
    "                opt.zero_grad(); loss.backward(); opt.step()\n",
    "            else:\n",
    "                # collapse undirected duplicates for metrics\n",
    "                mask = batch.edge_index[0] < batch.edge_index[1]\n",
    "                preds.append(torch.sigmoid(logit[mask]).cpu())\n",
    "                labels.append(batch.y[mask].cpu())\n",
    "            tot_loss += loss.item() * batch.num_graphs\n",
    "    if train:\n",
    "        return tot_loss / len(loader.dataset)\n",
    "    else:\n",
    "        if labels:\n",
    "            p = torch.cat(preds); l = torch.cat(labels)\n",
    "            return tot_loss / len(loader.dataset), _roc_auc(l, p)\n",
    "        return tot_loss / len(loader.dataset), 0.0"
   ]
  },
  {
   "cell_type": "markdown",
   "id": "cf61ac22",
   "metadata": {},
   "source": [
    "## Training"
   ]
  },
  {
   "cell_type": "code",
   "execution_count": 27,
   "id": "ebffbdb4",
   "metadata": {},
   "outputs": [
    {
     "name": "stderr",
     "output_type": "stream",
     "text": [
      "  4%|▍         | 1/25 [00:17<06:50, 17.11s/it]"
     ]
    },
    {
     "name": "stdout",
     "output_type": "stream",
     "text": [
      "Ep01: train 1.0810  val 0.8774  AUC 0.877\n"
     ]
    },
    {
     "name": "stderr",
     "output_type": "stream",
     "text": [
      "  8%|▊         | 2/25 [00:29<05:28, 14.30s/it]"
     ]
    },
    {
     "name": "stdout",
     "output_type": "stream",
     "text": [
      "Ep02: train 0.8060  val 0.7355  AUC 0.915\n"
     ]
    },
    {
     "name": "stderr",
     "output_type": "stream",
     "text": [
      " 12%|█▏        | 3/25 [00:42<05:00, 13.68s/it]"
     ]
    },
    {
     "name": "stdout",
     "output_type": "stream",
     "text": [
      "Ep03: train 0.7194  val 0.6795  AUC 0.925\n"
     ]
    },
    {
     "name": "stderr",
     "output_type": "stream",
     "text": [
      " 16%|█▌        | 4/25 [00:54<04:36, 13.18s/it]"
     ]
    },
    {
     "name": "stdout",
     "output_type": "stream",
     "text": [
      "Ep04: train 0.6787  val 0.6483  AUC 0.931\n"
     ]
    },
    {
     "name": "stderr",
     "output_type": "stream",
     "text": [
      " 20%|██        | 5/25 [01:07<04:21, 13.05s/it]"
     ]
    },
    {
     "name": "stdout",
     "output_type": "stream",
     "text": [
      "Ep05: train 0.6534  val 0.6261  AUC 0.935\n"
     ]
    },
    {
     "name": "stderr",
     "output_type": "stream",
     "text": [
      " 24%|██▍       | 6/25 [01:18<03:55, 12.37s/it]"
     ]
    },
    {
     "name": "stdout",
     "output_type": "stream",
     "text": [
      "Ep06: train 0.6329  val 0.6081  AUC 0.938\n"
     ]
    },
    {
     "name": "stderr",
     "output_type": "stream",
     "text": [
      " 28%|██▊       | 7/25 [01:31<03:46, 12.60s/it]"
     ]
    },
    {
     "name": "stdout",
     "output_type": "stream",
     "text": [
      "Ep07: train 0.6162  val 0.5935  AUC 0.941\n"
     ]
    },
    {
     "name": "stderr",
     "output_type": "stream",
     "text": [
      " 32%|███▏      | 8/25 [01:42<03:23, 11.99s/it]"
     ]
    },
    {
     "name": "stdout",
     "output_type": "stream",
     "text": [
      "Ep08: train 0.6023  val 0.5812  AUC 0.943\n"
     ]
    },
    {
     "name": "stderr",
     "output_type": "stream",
     "text": [
      " 36%|███▌      | 9/25 [01:55<03:16, 12.30s/it]"
     ]
    },
    {
     "name": "stdout",
     "output_type": "stream",
     "text": [
      "Ep09: train 0.5899  val 0.5717  AUC 0.945\n"
     ]
    },
    {
     "name": "stderr",
     "output_type": "stream",
     "text": [
      " 40%|████      | 10/25 [02:07<03:04, 12.33s/it]"
     ]
    },
    {
     "name": "stdout",
     "output_type": "stream",
     "text": [
      "Ep10: train 0.5801  val 0.5636  AUC 0.946\n"
     ]
    },
    {
     "name": "stderr",
     "output_type": "stream",
     "text": [
      " 44%|████▍     | 11/25 [02:20<02:52, 12.30s/it]"
     ]
    },
    {
     "name": "stdout",
     "output_type": "stream",
     "text": [
      "Ep11: train 0.5710  val 0.5543  AUC 0.947\n"
     ]
    },
    {
     "name": "stderr",
     "output_type": "stream",
     "text": [
      " 48%|████▊     | 12/25 [02:32<02:42, 12.50s/it]"
     ]
    },
    {
     "name": "stdout",
     "output_type": "stream",
     "text": [
      "Ep12: train 0.5635  val 0.5474  AUC 0.949\n"
     ]
    },
    {
     "name": "stderr",
     "output_type": "stream",
     "text": [
      " 52%|█████▏    | 13/25 [02:45<02:31, 12.64s/it]"
     ]
    },
    {
     "name": "stdout",
     "output_type": "stream",
     "text": [
      "Ep13: train 0.5567  val 0.5428  AUC 0.950\n"
     ]
    },
    {
     "name": "stderr",
     "output_type": "stream",
     "text": [
      " 56%|█████▌    | 14/25 [02:58<02:18, 12.62s/it]"
     ]
    },
    {
     "name": "stdout",
     "output_type": "stream",
     "text": [
      "Ep14: train 0.5497  val 0.5358  AUC 0.951\n"
     ]
    },
    {
     "name": "stderr",
     "output_type": "stream",
     "text": [
      " 60%|██████    | 15/25 [03:11<02:05, 12.59s/it]"
     ]
    },
    {
     "name": "stdout",
     "output_type": "stream",
     "text": [
      "Ep15: train 0.5447  val 0.5301  AUC 0.951\n"
     ]
    },
    {
     "name": "stderr",
     "output_type": "stream",
     "text": [
      " 64%|██████▍   | 16/25 [03:23<01:53, 12.62s/it]"
     ]
    },
    {
     "name": "stdout",
     "output_type": "stream",
     "text": [
      "Ep16: train 0.5390  val 0.5260  AUC 0.952\n"
     ]
    },
    {
     "name": "stderr",
     "output_type": "stream",
     "text": [
      " 68%|██████▊   | 17/25 [03:36<01:40, 12.56s/it]"
     ]
    },
    {
     "name": "stdout",
     "output_type": "stream",
     "text": [
      "Ep17: train 0.5346  val 0.5207  AUC 0.953\n"
     ]
    },
    {
     "name": "stderr",
     "output_type": "stream",
     "text": [
      " 72%|███████▏  | 18/25 [03:48<01:27, 12.50s/it]"
     ]
    },
    {
     "name": "stdout",
     "output_type": "stream",
     "text": [
      "Ep18: train 0.5290  val 0.5182  AUC 0.954\n"
     ]
    },
    {
     "name": "stderr",
     "output_type": "stream",
     "text": [
      " 76%|███████▌  | 19/25 [04:01<01:15, 12.62s/it]"
     ]
    },
    {
     "name": "stdout",
     "output_type": "stream",
     "text": [
      "Ep19: train 0.5248  val 0.5122  AUC 0.954\n"
     ]
    },
    {
     "name": "stderr",
     "output_type": "stream",
     "text": [
      " 80%|████████  | 20/25 [04:14<01:03, 12.61s/it]"
     ]
    },
    {
     "name": "stdout",
     "output_type": "stream",
     "text": [
      "Ep20: train 0.5212  val 0.5101  AUC 0.955\n"
     ]
    },
    {
     "name": "stderr",
     "output_type": "stream",
     "text": [
      " 84%|████████▍ | 21/25 [04:26<00:50, 12.72s/it]"
     ]
    },
    {
     "name": "stdout",
     "output_type": "stream",
     "text": [
      "Ep21: train 0.5170  val 0.5046  AUC 0.955\n"
     ]
    },
    {
     "name": "stderr",
     "output_type": "stream",
     "text": [
      " 88%|████████▊ | 22/25 [04:40<00:38, 12.84s/it]"
     ]
    },
    {
     "name": "stdout",
     "output_type": "stream",
     "text": [
      "Ep22: train 0.5140  val 0.5030  AUC 0.956\n"
     ]
    },
    {
     "name": "stderr",
     "output_type": "stream",
     "text": [
      " 92%|█████████▏| 23/25 [04:52<00:25, 12.80s/it]"
     ]
    },
    {
     "name": "stdout",
     "output_type": "stream",
     "text": [
      "Ep23: train 0.5103  val 0.4984  AUC 0.956\n"
     ]
    },
    {
     "name": "stderr",
     "output_type": "stream",
     "text": [
      " 96%|█████████▌| 24/25 [05:05<00:12, 12.78s/it]"
     ]
    },
    {
     "name": "stdout",
     "output_type": "stream",
     "text": [
      "Ep24: train 0.5073  val 0.4961  AUC 0.957\n"
     ]
    },
    {
     "name": "stderr",
     "output_type": "stream",
     "text": [
      "100%|██████████| 25/25 [05:18<00:00, 12.73s/it]"
     ]
    },
    {
     "name": "stdout",
     "output_type": "stream",
     "text": [
      "Ep25: train 0.5045  val 0.4947  AUC 0.957\n"
     ]
    },
    {
     "name": "stderr",
     "output_type": "stream",
     "text": [
      "\n"
     ]
    }
   ],
   "source": [
    "EPOCHS = 25\n",
    "\n",
    "device = \"cuda\" if torch.cuda.is_available() else \"cpu\"\n",
    "ds = CentreDataset('data/dataSetB.csv', os.cpu_count())\n",
    "\n",
    "n_tr, n_val = int(0.8 * len(ds)), int(0.1 * len(ds))\n",
    "# train_ds, val_ds, test_ds = torch.utils.data.(ds, [n_tr, n_val, len(ds) - n_tr - n_val])\n",
    "\n",
    "train_size = int(0.8 * len(ds))\n",
    "val_size = int(0.1 * len(ds))\n",
    "test_size = len(ds) - train_size - val_size\n",
    "\n",
    "train_ds = ds[:train_size]\n",
    "val_ds = ds[train_size : train_size + val_size]\n",
    "test_ds = ds[train_size + val_size :]\n",
    "\n",
    "train_loader = DataLoader(train_ds, batch_size=32, shuffle=True)\n",
    "val_loader   = DataLoader(val_ds, batch_size=64)\n",
    "test_loader  = DataLoader(test_ds, batch_size=64)\n",
    "\n",
    "hidden = 128\n",
    "model = GNN(ds.num_node_features, ds.num_edge_features, hidden=hidden).to(device)\n",
    "\n",
    "pos = sum(int(d.y.sum()) for d in ds)\n",
    "neg = sum(int(d.y.numel() - d.y.sum()) for d in ds)\n",
    "criterion = nn.BCEWithLogitsLoss(pos_weight=torch.tensor([neg/pos], device=device))\n",
    "optimizer = torch.optim.Adam(model.parameters(), lr=1e-5)\n",
    "\n",
    "best_auc = 0.0\n",
    "for epoch in tqdm.tqdm(range(1, EPOCHS + 1)):\n",
    "    tr_loss = _run_epoch(model, train_loader, criterion, opt=optimizer, device=device)\n",
    "    val_loss, val_auc = _run_epoch(model, val_loader, criterion, device=device)\n",
    "    print(f\"Ep{epoch:02d}: train {tr_loss:.4f}  val {val_loss:.4f}  AUC {val_auc:.3f}\")\n",
    "    if val_auc > best_auc:\n",
    "        best_auc = val_auc\n",
    "        torch.save(model.state_dict(), \"best_model.pt\")"
   ]
  },
  {
   "cell_type": "markdown",
   "id": "7bfba37c",
   "metadata": {},
   "source": [
    "## Evaluation"
   ]
  },
  {
   "cell_type": "code",
   "execution_count": 34,
   "id": "61ac37a2",
   "metadata": {},
   "outputs": [
    {
     "name": "stdout",
     "output_type": "stream",
     "text": [
      "Test AUC = 0.957\n",
      "\n",
      "Precision / recall / F1 on test bonds:\n",
      "              precision    recall  f1-score   support\n",
      "\n",
      "         0.0      0.998     0.869     0.929    131076\n",
      "         1.0      0.163     0.927     0.278      3605\n",
      "\n",
      "    accuracy                          0.871    134681\n",
      "   macro avg      0.580     0.898     0.603    134681\n",
      "weighted avg      0.975     0.871     0.912    134681\n",
      "\n"
     ]
    },
    {
     "data": {
      "image/png": "[encoded data removed]",
      "text/plain": [
       "<Figure size 700x600 with 1 Axes>"
      ]
     },
     "metadata": {},
     "output_type": "display_data"
    }
   ],
   "source": [
    "# model = GNN(ds.num_node_features, ds.num_edge_features, hidden=hidden).to(device)\n",
    "# model.load_state_dict(torch.load(\"best_model_best.pt\"))\n",
    "_, test_auc = _run_epoch(model, test_loader, criterion, device=device)\n",
    "print(f\"Test AUC = {test_auc:.3f}\")\n",
    "\n",
    "\n",
    "import matplotlib.pyplot as plt\n",
    "from sklearn.metrics import classification_report, roc_curve\n",
    "probs, y_true = _collect_preds(model, test_loader, device)\n",
    "y_pred = (probs > 0.5).int()  # threshold can be tuned\n",
    "\n",
    "print(\"\\nPrecision / recall / F1 on test bonds:\")\n",
    "print(classification_report(y_true.numpy(), y_pred.numpy(), digits=3))\n",
    "\n",
    "fpr, tpr, _ = roc_curve(y_true.numpy(), probs.numpy())\n",
    "plt.figure(figsize=(7, 6))\n",
    "plt.plot(fpr, tpr, lw=2, label=f\"AUC = {test_auc:.3f}\")\n",
    "plt.plot([0, 1], [0, 1], \"--\", color=\"grey\")\n",
    "plt.xlabel(\"False Positive Rate\");  plt.ylabel(\"True Positive Rate\")\n",
    "plt.title(\"ROC – Reaction-Centre Classifier\");  plt.legend();  plt.grid(alpha=.3)\n",
    "plt.show()"
   ]
  }
 ],
 "metadata": {
  "kernelspec": {
   "display_name": "3.9venv",
   "language": "python",
   "name": "python3"
  },
  "language_info": {
   "codemirror_mode": {
    "name": "ipython",
    "version": 3
   },
   "file_extension": ".py",
   "mimetype": "text/x-python",
   "name": "python",
   "nbconvert_exporter": "python",
   "pygments_lexer": "ipython3",
   "version": "3.9.23"
  }
 },
 "nbformat": 4,
 "nbformat_minor": 5
}
