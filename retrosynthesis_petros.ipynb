{
 "cells": [
  {
   "cell_type": "markdown",
   "id": "ecc4bb0d",
   "metadata": {},
   "source": [
    "# Imports"
   ]
  },
  {
   "cell_type": "code",
   "execution_count": 1,
   "id": "fff49f6f",
   "metadata": {},
   "outputs": [],
   "source": [
    "from rdkit import Chem\n",
    "from rdkit.Chem import Draw, rdChemReactions\n",
    "import pandas as pd\n",
    "import numpy as np\n",
    "import re\n",
    "import torch\n",
    "import torch.nn.functional as F\n",
    "from torch_geometric.data import Data\n",
    "from torch_geometric.nn import GATConv, TransformerConv\n",
    "from torch_geometric.loader import DataLoader\n",
    "from sklearn.preprocessing import OneHotEncoder\n",
    "import torch.nn as nn"
   ]
  },
  {
   "cell_type": "markdown",
   "id": "e8da9259",
   "metadata": {},
   "source": [
    "# Data Parsing"
   ]
  },
  {
   "cell_type": "markdown",
   "id": "08723dc4",
   "metadata": {},
   "source": [
    "### Load dataset"
   ]
  },
  {
   "cell_type": "code",
   "execution_count": 2,
   "id": "b39a80b0",
   "metadata": {},
   "outputs": [],
   "source": [
    "df = pd.read_csv('./data/dataSetB.csv')\n",
    "df = df[[col for col in df if \"NameRxn\" in col]]"
   ]
  },
  {
   "cell_type": "markdown",
   "id": "b6436416",
   "metadata": {},
   "source": [
    "### Smiles to Reactions"
   ]
  },
  {
   "cell_type": "code",
   "execution_count": 3,
   "id": "b6228ce8",
   "metadata": {},
   "outputs": [],
   "source": [
    "def parse_rxn_smile(rxn_smile,reactant_set):\n",
    "    before_rxn_smile, products_smile = rxn_smile.split('>>')\n",
    "\n",
    "    reactant_indices = [int(x) for x in re.findall(r'\\d+', reactant_set)]\n",
    "\n",
    "    potential_reactants = before_rxn_smile.split('.')\n",
    "    reactants = [potential_reactants[idx] for idx in reactant_indices]\n",
    "\n",
    "    products = products_smile.split('.')\n",
    "\n",
    "    return reactants,products"
   ]
  },
  {
   "cell_type": "code",
   "execution_count": 4,
   "id": "f97bf402",
   "metadata": {},
   "outputs": [],
   "source": [
    "rxn_list = []\n",
    "for idx, row in df.iterrows():\n",
    "    rxn_smile = row['rxnSmiles_Mapping_NameRxn']\n",
    "    reactant_set = row['reactantSet_NameRxn']\n",
    "\n",
    "    reactants, products = parse_rxn_smile(rxn_smile,reactant_set)\n",
    "\n",
    "    reactant_mols = [Chem.MolFromSmiles(reactant) for reactant in reactants]\n",
    "    product_mols = [Chem.MolFromSmiles(product) for product in products]\n",
    "\n",
    "    rxn_list.append((reactant_mols,product_mols))\n"
   ]
  },
  {
   "cell_type": "markdown",
   "id": "ab31faa4",
   "metadata": {},
   "source": [
    "### Reaction cleanup"
   ]
  },
  {
   "cell_type": "code",
   "execution_count": null,
   "id": "5c395b7c",
   "metadata": {},
   "outputs": [],
   "source": [
    "# problems_w = 0\n",
    "# problems_e = 0\n",
    "# i = 0\n",
    "cleaned_rxn_list = []\n",
    "for idx, rxn in enumerate(rxn_list):\n",
    "    rd_rxn = rdChemReactions.ChemicalReaction()\n",
    "    for rctnt in rxn[0]:\n",
    "        rd_rxn.AddReactantTemplate(rctnt)\n",
    "    for prdct in rxn[1]:\n",
    "        rd_rxn.AddProductTemplate(prdct)\n",
    "\n",
    "    warnings, errors = rd_rxn.Validate()\n",
    "    if(not warnings and not errors and not len(rxn[1])>1):\n",
    "        cleaned_rxn_list.append(rd_rxn)\n",
    "    # problems_w+=warnings\n",
    "    # problems_e+=errors\n",
    "# print(problems_w,problems_e)"
   ]
  },
  {
   "cell_type": "markdown",
   "id": "2d2ba8c9",
   "metadata": {},
   "source": [
    "# Feature extraction"
   ]
  },
  {
   "cell_type": "code",
   "execution_count": 6,
   "id": "aa38dad8",
   "metadata": {},
   "outputs": [],
   "source": [
    "symbol_list = [\n",
    "        'C', 'N', 'O', 'S', 'F', 'H', 'Si', 'P', 'Cl', 'Br', 'Li', 'Na', 'K',\n",
    "        'Mg', 'B', 'Sn', 'I', 'Se', 'unk'\n",
    "    ]\n",
    "\n",
    "hyb_list = [\n",
    "    Chem.rdchem.HybridizationType.SP, \n",
    "    Chem.rdchem.HybridizationType.SP2,\n",
    "    Chem.rdchem.HybridizationType.SP3,\n",
    "    Chem.rdchem.HybridizationType.SP3D,\n",
    "    Chem.rdchem.HybridizationType.SP3D2\n",
    "    ]\n",
    "\n",
    "bt_list = [\n",
    "    Chem.rdchem.BondType.SINGLE,\n",
    "    Chem.rdchem.BondType.DOUBLE,\n",
    "    Chem.rdchem.BondType.TRIPLE,\n",
    "    Chem.rdchem.BondType.AROMATIC\n",
    "]\n",
    "\n",
    "sym_encoder = OneHotEncoder(dtype=np.float32, sparse_output=False)\n",
    "hyb_encoder = OneHotEncoder(dtype=np.float32, sparse_output=False)\n",
    "bt_encoder = OneHotEncoder(dtype=np.float32, sparse_output=False)\n",
    "\n",
    "sym_encoder.fit(np.array(symbol_list).reshape(-1,1))\n",
    "hyb_encoder.fit(np.array(hyb_list).reshape(-1,1))\n",
    "bt_encoder.fit(np.array(bt_list).reshape(-1,1))\n",
    "\n",
    "def one_hot_encode(symbol,encoder):\n",
    "    try: \n",
    "        return torch.tensor(encoder.transform(np.array([[symbol]])).reshape(-1), dtype=torch.float)\n",
    "    except:\n",
    "        return torch.tensor(encoder.transform(np.array([['unk']])).reshape(-1), dtype=torch.float)\n"
   ]
  },
  {
   "cell_type": "code",
   "execution_count": 7,
   "id": "c3c490d8",
   "metadata": {},
   "outputs": [],
   "source": [
    "def get_atom_features(atom):\n",
    "    sym_one_hot = one_hot_encode(atom.GetSymbol(),sym_encoder)\n",
    "    formal_charge = torch.tensor([atom.GetFormalCharge()], dtype=torch.float)\n",
    "    degree = torch.tensor([atom.GetDegree()], dtype=torch.float)\n",
    "    total_hydrogens = torch.tensor([atom.GetTotalNumHs()], dtype=torch.float)\n",
    "    valence = torch.tensor([atom.GetTotalValence()], dtype=torch.float)\n",
    "    is_aromatic = torch.tensor([atom.GetIsAromatic()], dtype=torch.float)\n",
    "    is_in_ring = torch.tensor([atom.IsInRing()], dtype=torch.float)\n",
    "    hyb_one_hot = one_hot_encode(atom.GetHybridization(),hyb_encoder)\n",
    "    \n",
    "    features = torch.cat([sym_one_hot, formal_charge, degree, total_hydrogens, valence, is_aromatic, is_in_ring, hyb_one_hot])\n",
    "\n",
    "    return features\n",
    "\n",
    "\n",
    "def get_bond_features(bond):\n",
    "    # bond type, conjugation, ring membership,  stereo config\n",
    "    bt_one_hot = one_hot_encode(bond.GetBondType(),bt_encoder)\n",
    "    is_conjugated = torch.tensor([bond.GetIsConjugated()],dtype=torch.float)\n",
    "    is_in_ring = torch.tensor([bond.IsInRing()],dtype=torch.float)\n",
    "\n",
    "    \n",
    "    features = torch.cat([bt_one_hot,is_conjugated,is_in_ring])\n",
    "\n",
    "    return(features)\n"
   ]
  },
  {
   "cell_type": "markdown",
   "id": "cac471b9",
   "metadata": {},
   "source": [
    "# Input Preparation"
   ]
  },
  {
   "cell_type": "code",
   "execution_count": 8,
   "id": "90b38d1e",
   "metadata": {},
   "outputs": [],
   "source": [
    "def get_bonds_to_break(reactants,product):\n",
    "    reactant_bonds = set()\n",
    "    product_bonds = set()\n",
    "    for rc in reactants:\n",
    "        for bond in rc.GetBonds():\n",
    "            atom1_map = bond.GetBeginAtom().GetAtomMapNum()\n",
    "            atom2_map = bond.GetEndAtom().GetAtomMapNum()\n",
    "\n",
    "            if atom1_map and atom2_map:\n",
    "                reactant_bonds.add(tuple(sorted((atom1_map, atom2_map))))\n",
    "\n",
    "    for bond in product.GetBonds():\n",
    "        atom1_map = bond.GetBeginAtom().GetAtomMapNum()\n",
    "        atom2_map = bond.GetEndAtom().GetAtomMapNum()\n",
    "        \n",
    "        if atom1_map and atom2_map:\n",
    "            product_bonds.add(tuple(sorted((atom1_map, atom2_map))))\n",
    "\n",
    "    created_bonds = reactant_bonds - product_bonds\n",
    "    bonds_to_break = product_bonds - reactant_bonds\n",
    "\n",
    "    return bonds_to_break"
   ]
  },
  {
   "cell_type": "markdown",
   "id": "a0205e86",
   "metadata": {},
   "source": [
    "# Model Definition"
   ]
  },
  {
   "cell_type": "code",
   "execution_count": 20,
   "id": "06b12c8b",
   "metadata": {},
   "outputs": [],
   "source": [
    "from torch_geometric.nn import global_mean_pool\n",
    "class GraphTransformer(nn.Module):\n",
    "    def __init__(self, in_channels, edge_dim, hidden_channels, out_channels, heads=8):\n",
    "        super().__init__()\n",
    "        assert hidden_channels % heads == 0, \"Hidden channels must be divisible by heads\"\n",
    "        out_channels_per_head = hidden_channels // heads\n",
    "        \n",
    "        self.conv1 = TransformerConv(in_channels, out_channels_per_head, heads=heads, edge_dim=edge_dim)\n",
    "        self.conv2 = TransformerConv(hidden_channels, out_channels, heads=1, concat=False, edge_dim=edge_dim)\n",
    "\n",
    "    def forward(self, x, edge_index, edge_attr):\n",
    "        h = self.conv1(x, edge_index, edge_attr=edge_attr)\n",
    "        h = F.leaky_relu(h)\n",
    "        h = F.dropout(h, p=0.5, training=self.training)\n",
    "        h = self.conv2(h, edge_index, edge_attr=edge_attr)\n",
    "        return h\n",
    "\n",
    "class LinkPredictor(nn.Module):\n",
    "    def __init__(self, in_channels, hidden_channels, out_channels=1):\n",
    "        super().__init__()\n",
    "        self.mlp = nn.Sequential(\n",
    "            nn.Linear(in_channels, hidden_channels),\n",
    "            nn.ReLU(),\n",
    "            nn.Dropout(p=0.5),\n",
    "            nn.Linear(hidden_channels, out_channels)\n",
    "        )\n",
    "\n",
    "    def forward(self, h_src, h_dst, edge_attr, h_graph):\n",
    "        # Concatenate source, destination, edge, and graph features\n",
    "        combined_embeds = torch.cat([h_src, h_dst, edge_attr, h_graph], dim=1)\n",
    "        return self.mlp(combined_embeds)\n",
    "\n",
    "\n",
    "class GNN_LinkPredictor(nn.Module):\n",
    "    def __init__(self, node_in, edge_in, gnn_hidden, mlp_hidden):\n",
    "        super().__init__()\n",
    "        self.gnn = GraphTransformer(\n",
    "            in_channels=node_in,\n",
    "            edge_dim=edge_in,\n",
    "            hidden_channels=gnn_hidden,\n",
    "            out_channels=gnn_hidden\n",
    "        )\n",
    "        # Calculate predictor input size: 2*node_hidden + edge_features + graph_hidden\n",
    "        predictor_in_channels = (gnn_hidden * 2) + edge_in + gnn_hidden\n",
    "        self.predictor = LinkPredictor(predictor_in_channels, mlp_hidden)\n",
    "\n",
    "    # predicts a score for every edge.\n",
    "    def forward(self, x, edge_index, edge_attr, batch):\n",
    "        node_embeddings = self.gnn(x, edge_index, edge_attr)\n",
    "        graph_embedding = global_mean_pool(node_embeddings, batch)\n",
    "        \n",
    "        # features\n",
    "        source_embeds = node_embeddings[edge_index[0]]\n",
    "        target_embeds = node_embeddings[edge_index[1]]\n",
    "        \n",
    "        # graph embedding to match the number of edges\n",
    "        graph_embedding_expanded = graph_embedding[batch[edge_index[0]]]\n",
    "\n",
    "        return self.predictor(source_embeds, target_embeds, edge_attr, graph_embedding_expanded)"
   ]
  },
  {
   "cell_type": "code",
   "execution_count": 10,
   "id": "5e3f6d5d",
   "metadata": {},
   "outputs": [],
   "source": [
    "def rxn_to_graph(rxn):\n",
    "    reactants = rxn.GetReactants()\n",
    "    # single product\n",
    "    product = rxn.GetProducts()[0]\n",
    "    \n",
    "    atom_features_list = [get_atom_features(atom) for atom in product.GetAtoms()]\n",
    "    x = torch.stack(atom_features_list, dim=0)\n",
    "\n",
    "    source_nodes, target_nodes = [], []\n",
    "    bond_features_list = []\n",
    "\n",
    "    for bond in product.GetBonds():\n",
    "        start, end = bond.GetBeginAtomIdx(), bond.GetEndAtomIdx()\n",
    "        bond_feat = get_bond_features(bond)\n",
    "        \n",
    "        # both directions for GNN message passing\n",
    "        source_nodes.extend([start, end])\n",
    "        target_nodes.extend([end, start])\n",
    "        \n",
    "        # bond features for both directions\n",
    "        bond_features_list.extend([bond_feat, bond_feat])\n",
    "\n",
    "    edge_index = torch.tensor([source_nodes, target_nodes], dtype=torch.long)\n",
    "    edge_attr = torch.stack(bond_features_list, dim=0)\n",
    "\n",
    "    bonds_to_break_maps = get_bonds_to_break(reactants, product)\n",
    "    \n",
    "    # lookup map from atom map number to its index\n",
    "    map_to_idx = {atom.GetAtomMapNum(): atom.GetIdx() for atom in product.GetAtoms()}\n",
    "\n",
    "    bonds_to_break_indices = set()\n",
    "    for map1, map2 in bonds_to_break_maps:\n",
    "        if map1 in map_to_idx and map2 in map_to_idx:\n",
    "            idx1, idx2 = map_to_idx[map1], map_to_idx[map2]\n",
    "            bonds_to_break_indices.add(tuple(sorted((idx1, idx2))))\n",
    "            \n",
    "    # label (0 or 1) every bond in the product graph\n",
    "    edge_labels = []\n",
    "    # unique bonds (every other edge in edge_index)\n",
    "    for i in range(0, len(source_nodes), 2):\n",
    "        start_node, end_node = source_nodes[i], target_nodes[i]\n",
    "        bond_tuple = tuple(sorted((start_node, end_node)))\n",
    "        \n",
    "        if bond_tuple in bonds_to_break_indices:\n",
    "            edge_labels.append(1)  # Label 1 bonds to break (positive class)\n",
    "        else:\n",
    "            edge_labels.append(0)  # Label 0 bonds that are NOT broken (negative class)\n",
    "            \n",
    "    # label for each directed edge\n",
    "    # duplicate the list: [0, 1, 0] becomes [0, 1, 0, 0, 1, 0]\n",
    "    edge_labels.extend(edge_labels)\n",
    "    # ground truth\n",
    "    y = torch.tensor(edge_labels, dtype=torch.float).view(-1, 1)\n",
    "    return Data(x=x, edge_index=edge_index, edge_attr=edge_attr, y=y)\n",
    "    \n",
    "    "
   ]
  },
  {
   "cell_type": "code",
   "execution_count": 11,
   "id": "a2e8d5ad",
   "metadata": {},
   "outputs": [
    {
     "name": "stdout",
     "output_type": "stream",
     "text": [
      "Using cuda.\n"
     ]
    },
    {
     "name": "stderr",
     "output_type": "stream",
     "text": [
      "100%|██████████| 48232/48232 [25:22<00:00, 31.67it/s]\n"
     ]
    }
   ],
   "source": [
    "from tqdm import tqdm\n",
    "device = torch.device('cuda' if torch.cuda.is_available() else 'cpu')\n",
    "print(f\"Using {device}.\")\n",
    "\n",
    "dataset = [rxn_to_graph(rxn) for rxn in tqdm(cleaned_rxn_list)]\n",
    "# dataset = torch.load('rxn_graphs.pt')\n",
    "\n",
    "train_size = int(0.8 * len(dataset))\n",
    "val_size = int(0.1 * len(dataset))\n",
    "test_size = len(dataset) - train_size - val_size\n",
    "\n",
    "train_dataset = dataset[:train_size]\n",
    "val_dataset = dataset[train_size : train_size + val_size]\n",
    "test_dataset = dataset[train_size + val_size :]\n",
    "\n",
    "train_loader = DataLoader(train_dataset, batch_size=32, shuffle=True)\n",
    "val_loader = DataLoader(val_dataset, batch_size=32, shuffle=False)\n",
    "test_loader = DataLoader(test_dataset, batch_size=32, shuffle=False)"
   ]
  },
  {
   "cell_type": "code",
   "execution_count": 12,
   "id": "c6c456b7",
   "metadata": {},
   "outputs": [],
   "source": [
    "import time\n",
    "timestr = time.strftime(\"%Y%m%d-%H%M%S\")\n",
    "torch.save(dataset, f'rxn_graphs-{timestr}.pt')"
   ]
  },
  {
   "cell_type": "code",
   "execution_count": 21,
   "id": "f96c093b",
   "metadata": {},
   "outputs": [
    {
     "name": "stdout",
     "output_type": "stream",
     "text": [
      "Number of negative samples: 2109482.0\n",
      "Number of positive samples: 58134.0\n",
      "Positive Class Weight: 36.29\n"
     ]
    }
   ],
   "source": [
    "from sklearn.metrics import roc_auc_score\n",
    "from torch_geometric.utils import negative_sampling\n",
    "\n",
    "num_negatives = 0\n",
    "num_positives = 0\n",
    "for data in train_dataset:\n",
    "    num_positives += data.y.sum()\n",
    "    num_negatives += len(data.y) - data.y.sum()\n",
    "\n",
    "pos_weight = num_negatives / num_positives\n",
    "print(f\"Number of negative samples: {num_negatives}\")\n",
    "print(f\"Number of positive samples: {num_positives}\")\n",
    "print(f\"Positive Class Weight: {pos_weight:.2f}\")\n",
    "pos_weight_tensor = torch.tensor([pos_weight], device=device)\n",
    "\n",
    "\n",
    "# Model instantiation\n",
    "node_feature_dim = dataset[0].num_node_features\n",
    "edge_feature_dim = dataset[0].num_edge_features\n",
    "\n",
    "\n",
    "model = GNN_LinkPredictor(node_feature_dim, edge_feature_dim, gnn_hidden=128, mlp_hidden=32).to(device)\n",
    "\n",
    "optimizer = torch.optim.Adam(model.parameters(), lr=1e-5)\n",
    "criterion = torch.nn.BCEWithLogitsLoss(pos_weight=pos_weight_tensor)\n",
    "\n",
    "\n",
    "def train(loader):\n",
    "    model.train()\n",
    "    for batch in tqdm(loader, desc=\"Training\"):\n",
    "        batch = batch.to(device)\n",
    "        optimizer.zero_grad()\n",
    "        \n",
    "        out = model(batch.x, batch.edge_index, batch.edge_attr, batch.batch)\n",
    "        \n",
    "        # The ground truth\n",
    "        loss = criterion(out, batch.y)\n",
    "        loss.backward()\n",
    "        optimizer.step()\n",
    "\n",
    "@torch.no_grad()\n",
    "def test(loader):\n",
    "    model.eval()\n",
    "    all_preds, all_labels = [], []\n",
    "    for batch in loader:\n",
    "        batch = batch.to(device)\n",
    "        \n",
    "        preds = model(batch.x, batch.edge_index, batch.edge_attr, batch.batch)\n",
    "        \n",
    "        all_preds.append(preds.sigmoid().cpu())\n",
    "        all_labels.append(batch.y.cpu())\n",
    "    \n",
    "    if not all_labels or len(all_labels[0]) == 0:\n",
    "        return 0.0, None, None\n",
    "    \n",
    "    predictions_tensor = torch.cat(all_preds)\n",
    "    labels_tensor = torch.cat(all_labels)\n",
    "\n",
    "    auc_score = roc_auc_score(labels_tensor, predictions_tensor)\n",
    "    return auc_score, labels_tensor, predictions_tensor\n",
    "\n",
    "\n"
   ]
  },
  {
   "cell_type": "code",
   "execution_count": 22,
   "id": "57fa5dc1",
   "metadata": {},
   "outputs": [
    {
     "name": "stderr",
     "output_type": "stream",
     "text": [
      "Training: 100%|██████████| 1206/1206 [00:12<00:00, 94.71it/s] \n"
     ]
    },
    {
     "name": "stdout",
     "output_type": "stream",
     "text": [
      "Epoch: 01, Val AUC: 0.5809\n"
     ]
    },
    {
     "name": "stderr",
     "output_type": "stream",
     "text": [
      "Training: 100%|██████████| 1206/1206 [00:11<00:00, 100.54it/s]\n"
     ]
    },
    {
     "name": "stdout",
     "output_type": "stream",
     "text": [
      "Epoch: 02, Val AUC: 0.5931\n"
     ]
    },
    {
     "name": "stderr",
     "output_type": "stream",
     "text": [
      "Training: 100%|██████████| 1206/1206 [00:12<00:00, 99.23it/s] \n"
     ]
    },
    {
     "name": "stdout",
     "output_type": "stream",
     "text": [
      "Epoch: 03, Val AUC: 0.6002\n"
     ]
    },
    {
     "name": "stderr",
     "output_type": "stream",
     "text": [
      "Training: 100%|██████████| 1206/1206 [00:12<00:00, 99.10it/s]\n"
     ]
    },
    {
     "name": "stdout",
     "output_type": "stream",
     "text": [
      "Epoch: 04, Val AUC: 0.6064\n"
     ]
    },
    {
     "name": "stderr",
     "output_type": "stream",
     "text": [
      "Training: 100%|██████████| 1206/1206 [00:12<00:00, 97.48it/s]\n"
     ]
    },
    {
     "name": "stdout",
     "output_type": "stream",
     "text": [
      "Epoch: 05, Val AUC: 0.6109\n"
     ]
    },
    {
     "name": "stderr",
     "output_type": "stream",
     "text": [
      "Training: 100%|██████████| 1206/1206 [00:11<00:00, 102.85it/s]\n"
     ]
    },
    {
     "name": "stdout",
     "output_type": "stream",
     "text": [
      "Epoch: 06, Val AUC: 0.6170\n"
     ]
    },
    {
     "name": "stderr",
     "output_type": "stream",
     "text": [
      "Training: 100%|██████████| 1206/1206 [00:12<00:00, 99.38it/s] \n"
     ]
    },
    {
     "name": "stdout",
     "output_type": "stream",
     "text": [
      "Epoch: 07, Val AUC: 0.6215\n"
     ]
    },
    {
     "name": "stderr",
     "output_type": "stream",
     "text": [
      "Training: 100%|██████████| 1206/1206 [00:12<00:00, 96.56it/s] \n"
     ]
    },
    {
     "name": "stdout",
     "output_type": "stream",
     "text": [
      "Epoch: 08, Val AUC: 0.6253\n"
     ]
    },
    {
     "name": "stderr",
     "output_type": "stream",
     "text": [
      "Training: 100%|██████████| 1206/1206 [00:10<00:00, 111.94it/s]\n"
     ]
    },
    {
     "name": "stdout",
     "output_type": "stream",
     "text": [
      "Epoch: 09, Val AUC: 0.6295\n"
     ]
    },
    {
     "name": "stderr",
     "output_type": "stream",
     "text": [
      "Training: 100%|██████████| 1206/1206 [00:12<00:00, 100.26it/s]\n"
     ]
    },
    {
     "name": "stdout",
     "output_type": "stream",
     "text": [
      "Epoch: 10, Val AUC: 0.6335\n"
     ]
    },
    {
     "name": "stderr",
     "output_type": "stream",
     "text": [
      "Training: 100%|██████████| 1206/1206 [00:11<00:00, 102.83it/s]\n"
     ]
    },
    {
     "name": "stdout",
     "output_type": "stream",
     "text": [
      "Epoch: 11, Val AUC: 0.6371\n"
     ]
    },
    {
     "name": "stderr",
     "output_type": "stream",
     "text": [
      "Training: 100%|██████████| 1206/1206 [00:11<00:00, 104.92it/s]\n"
     ]
    },
    {
     "name": "stdout",
     "output_type": "stream",
     "text": [
      "Epoch: 12, Val AUC: 0.6408\n"
     ]
    },
    {
     "name": "stderr",
     "output_type": "stream",
     "text": [
      "Training: 100%|██████████| 1206/1206 [00:11<00:00, 102.02it/s]\n"
     ]
    },
    {
     "name": "stdout",
     "output_type": "stream",
     "text": [
      "Epoch: 13, Val AUC: 0.6431\n"
     ]
    },
    {
     "name": "stderr",
     "output_type": "stream",
     "text": [
      "Training: 100%|██████████| 1206/1206 [00:12<00:00, 98.90it/s]\n"
     ]
    },
    {
     "name": "stdout",
     "output_type": "stream",
     "text": [
      "Epoch: 14, Val AUC: 0.6462\n"
     ]
    },
    {
     "name": "stderr",
     "output_type": "stream",
     "text": [
      "Training: 100%|██████████| 1206/1206 [00:12<00:00, 99.65it/s]\n"
     ]
    },
    {
     "name": "stdout",
     "output_type": "stream",
     "text": [
      "Epoch: 15, Val AUC: 0.6484\n"
     ]
    },
    {
     "name": "stderr",
     "output_type": "stream",
     "text": [
      "Training: 100%|██████████| 1206/1206 [00:11<00:00, 102.93it/s]\n"
     ]
    },
    {
     "name": "stdout",
     "output_type": "stream",
     "text": [
      "Epoch: 16, Val AUC: 0.6504\n"
     ]
    },
    {
     "name": "stderr",
     "output_type": "stream",
     "text": [
      "Training: 100%|██████████| 1206/1206 [00:11<00:00, 101.44it/s]\n"
     ]
    },
    {
     "name": "stdout",
     "output_type": "stream",
     "text": [
      "Epoch: 17, Val AUC: 0.6528\n"
     ]
    },
    {
     "name": "stderr",
     "output_type": "stream",
     "text": [
      "Training: 100%|██████████| 1206/1206 [00:12<00:00, 99.80it/s]\n"
     ]
    },
    {
     "name": "stdout",
     "output_type": "stream",
     "text": [
      "Epoch: 18, Val AUC: 0.6543\n"
     ]
    },
    {
     "name": "stderr",
     "output_type": "stream",
     "text": [
      "Training: 100%|██████████| 1206/1206 [00:12<00:00, 97.84it/s]\n"
     ]
    },
    {
     "name": "stdout",
     "output_type": "stream",
     "text": [
      "Epoch: 19, Val AUC: 0.6560\n"
     ]
    },
    {
     "name": "stderr",
     "output_type": "stream",
     "text": [
      "Training: 100%|██████████| 1206/1206 [00:12<00:00, 100.25it/s]\n"
     ]
    },
    {
     "name": "stdout",
     "output_type": "stream",
     "text": [
      "Epoch: 20, Val AUC: 0.6580\n"
     ]
    }
   ],
   "source": [
    "for epoch in range(1, 21):\n",
    "   train(train_loader)\n",
    "   val_auc,_, _ = test(val_loader)\n",
    "   print(f'Epoch: {epoch:02d}, Val AUC: {val_auc:.4f}')"
   ]
  },
  {
   "cell_type": "code",
   "execution_count": 12,
   "id": "6ba05c4a",
   "metadata": {},
   "outputs": [
    {
     "name": "stdout",
     "output_type": "stream",
     "text": [
      "Evaluating final model and generating ROC curve...\n",
      "              precision    recall  f1-score   support\n",
      "\n",
      "         0.0       0.99      0.55      0.71    262152\n",
      "         1.0       0.05      0.82      0.09      7210\n",
      "\n",
      "    accuracy                           0.56    269362\n",
      "   macro avg       0.52      0.69      0.40    269362\n",
      "weighted avg       0.97      0.56      0.69    269362\n",
      "\n"
     ]
    },
    {
     "data": {
      "image/png": "[encoded data removed]",
      "text/plain": [
       "<Figure size 800x600 with 1 Axes>"
      ]
     },
     "metadata": {},
     "output_type": "display_data"
    }
   ],
   "source": [
    "import matplotlib.pyplot as plt\n",
    "from sklearn.metrics import roc_curve, classification_report\n",
    "\n",
    "# --- After your training loop is finished ---\n",
    "print(\"Evaluating final model and generating ROC curve...\")\n",
    "\n",
    "# 1. Get the final AUC, labels, and predictions from your test set\n",
    "final_auc, true_labels, predictions = test(test_loader) # or use val_loader\n",
    "\n",
    "binary_preds = (predictions > 0.5).int()\n",
    "\n",
    "print(classification_report(true_labels,binary_preds))\n",
    "\n",
    "if true_labels is not None:\n",
    "    # 2. Calculate the points for the ROC curve\n",
    "    fpr, tpr, _ = roc_curve(true_labels, predictions)\n",
    "\n",
    "    # 3. Plot the curve\n",
    "    plt.figure(figsize=(8, 6))\n",
    "    plt.plot(fpr, tpr, color='blue', lw=2, label=f'GNN (AUC = {final_auc:.4f})')\n",
    "    \n",
    "    # Plot the random chance line\n",
    "    plt.plot([0, 1], [0, 1], color='red', lw=2, linestyle='--', label='Random Chance (AUC = 0.5)')\n",
    "    \n",
    "    plt.xlabel('False Positive Rate')\n",
    "    plt.ylabel('True Positive Rate')\n",
    "    plt.title('Receiver Operating Characteristic (ROC) Curve')\n",
    "    plt.legend(loc='lower right')\n",
    "    plt.grid(alpha=0.2)\n",
    "    plt.show()"
   ]
  },
  {
   "cell_type": "code",
   "execution_count": null,
   "id": "74f11549",
   "metadata": {},
   "outputs": [],
   "source": []
  }
 ],
 "metadata": {
  "kernelspec": {
   "display_name": "3.9venv",
   "language": "python",
   "name": "python3"
  },
  "language_info": {
   "codemirror_mode": {
    "name": "ipython",
    "version": 3
   },
   "file_extension": ".py",
   "mimetype": "text/x-python",
   "name": "python",
   "nbconvert_exporter": "python",
   "pygments_lexer": "ipython3",
   "version": "3.9.23"
  }
 },
 "nbformat": 4,
 "nbformat_minor": 5
}
